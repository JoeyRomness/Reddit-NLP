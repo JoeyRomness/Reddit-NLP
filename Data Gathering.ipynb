{
 "cells": [
  {
   "cell_type": "markdown",
   "metadata": {},
   "source": [
    "# Data Gathering"
   ]
  },
  {
   "cell_type": "markdown",
   "metadata": {},
   "source": [
    "### Imports"
   ]
  },
  {
   "cell_type": "code",
   "execution_count": 1,
   "metadata": {},
   "outputs": [],
   "source": [
    "import requests\n",
    "import time \n",
    "import pandas as pd"
   ]
  },
  {
   "cell_type": "markdown",
   "metadata": {},
   "source": [
    "## Data Gathering"
   ]
  },
  {
   "cell_type": "code",
   "execution_count": 2,
   "metadata": {},
   "outputs": [],
   "source": [
    "#Here are my two subreddits I'll be trying to create a model off of\n",
    "url1 = 'https://www.reddit.com/r/climateskeptics.json'\n",
    "url2 = 'https://www.reddit.com/r/climatechange.json'"
   ]
  },
  {
   "cell_type": "code",
   "execution_count": 26,
   "metadata": {},
   "outputs": [],
   "source": [
    "#Let's make a function to easily gather data from all of our subreddits we will be using.\n",
    "#This function influenced by Riley's code given in the project 3 youtube video.\n",
    "\n",
    "def json_url(url):\n",
    "    #Defining a headers variable so I don't get 429 errors from reddit.\n",
    "    headers = {'User-agent': 'Joey'}\n",
    "    #Instantiating a posts list for my json results to go into\n",
    "    posts = []\n",
    "    #Setting 'after' equal to none initially, this will allow our first request to grab the first 25 posts\n",
    "    after = None\n",
    "    #The range here represents 25 posts per increment increase\n",
    "    for i in range(50):\n",
    "        print(i)\n",
    "        #If after is = None, we will have no params\n",
    "        if after == None:\n",
    "            params = {}\n",
    "        #But if it is NOT equal to none, it will use the last post's 'after' attribute to grab the next 25\n",
    "        else:\n",
    "            params = {'after': after}\n",
    "        #\n",
    "        res = requests.get(url, params=params, headers=headers)\n",
    "        \n",
    "        #As long as our status code is 200, our function will get our Json data and add it to our posts list\n",
    "        if res.status_code == 200:\n",
    "            json = res.json()\n",
    "            posts.extend(json['data']['children'])\n",
    "            after = json['data']['after']\n",
    "        #Otherwise it will end the function.\n",
    "        else:\n",
    "            print(res.status_code)\n",
    "            break\n",
    "        #This will add a one second delay to our request queries.\n",
    "        time.sleep(1)\n",
    "    return posts\n",
    "    "
   ]
  },
  {
   "cell_type": "code",
   "execution_count": 27,
   "metadata": {
    "scrolled": true
   },
   "outputs": [
    {
     "name": "stdout",
     "output_type": "stream",
     "text": [
      "0\n",
      "1\n",
      "2\n",
      "3\n",
      "4\n",
      "5\n",
      "6\n",
      "7\n",
      "8\n",
      "9\n",
      "10\n",
      "11\n",
      "12\n",
      "13\n",
      "14\n",
      "15\n",
      "16\n",
      "17\n",
      "18\n",
      "19\n",
      "20\n",
      "21\n",
      "22\n",
      "23\n",
      "24\n",
      "25\n",
      "26\n",
      "27\n",
      "28\n",
      "29\n",
      "30\n",
      "31\n",
      "32\n",
      "33\n",
      "34\n",
      "35\n",
      "36\n",
      "37\n",
      "38\n",
      "39\n",
      "40\n",
      "41\n",
      "42\n",
      "43\n",
      "44\n",
      "45\n",
      "46\n",
      "47\n",
      "48\n",
      "49\n"
     ]
    }
   ],
   "source": [
    "posts1 = json_url(url1)"
   ]
  },
  {
   "cell_type": "code",
   "execution_count": 28,
   "metadata": {
    "scrolled": true
   },
   "outputs": [
    {
     "name": "stdout",
     "output_type": "stream",
     "text": [
      "0\n",
      "1\n",
      "2\n",
      "3\n",
      "4\n",
      "5\n",
      "6\n",
      "7\n",
      "8\n",
      "9\n",
      "10\n",
      "11\n",
      "12\n",
      "13\n",
      "14\n",
      "15\n",
      "16\n",
      "17\n",
      "18\n",
      "19\n",
      "20\n",
      "21\n",
      "22\n",
      "23\n",
      "24\n",
      "25\n",
      "26\n",
      "27\n",
      "28\n",
      "29\n",
      "30\n",
      "31\n",
      "32\n",
      "33\n",
      "34\n",
      "35\n",
      "36\n",
      "37\n",
      "38\n",
      "39\n",
      "40\n",
      "41\n",
      "42\n",
      "43\n",
      "44\n",
      "45\n",
      "46\n",
      "47\n",
      "48\n",
      "49\n"
     ]
    }
   ],
   "source": [
    "posts2 = json_url(url2)"
   ]
  },
  {
   "cell_type": "code",
   "execution_count": 63,
   "metadata": {
    "scrolled": true
   },
   "outputs": [
    {
     "data": {
      "text/plain": [
       "1236"
      ]
     },
     "execution_count": 63,
     "metadata": {},
     "output_type": "execute_result"
    }
   ],
   "source": [
    "len([p['data']['name'] for p in posts1])\n",
    "len([p['data']['name'] for p in posts2])"
   ]
  },
  {
   "cell_type": "code",
   "execution_count": 32,
   "metadata": {
    "scrolled": true
   },
   "outputs": [
    {
     "data": {
      "text/plain": [
       "784"
      ]
     },
     "execution_count": 32,
     "metadata": {},
     "output_type": "execute_result"
    }
   ],
   "source": [
    "#I want unique posts here so lets check in a set to see how many unique posts I just grabbed. Looks like\n",
    "#I have some duplicates to get rid of.\n",
    "len(set([p['data']['name'] for p in posts1]))\n",
    "len(set([p['data']['name'] for p in posts2]))\n"
   ]
  },
  {
   "cell_type": "markdown",
   "metadata": {},
   "source": [
    "## Converting Data to DFs and Exporting It"
   ]
  },
  {
   "cell_type": "code",
   "execution_count": 60,
   "metadata": {},
   "outputs": [],
   "source": [
    "#Defining a function here that will take my posts and turn them into Dataframes, then export them. \n",
    "#I'm mostly defining this function here so that I can get practice simplifying steps in my data process\n",
    "#But it could also come in handy if I do end up deciding to use more then just 2 subreddits.\n",
    "\n",
    "def posts_todf_tocsv(posts , filename):\n",
    "    #I'll need to create columns out of these massive lists posts so let's clean them up, isolate the data\n",
    "    #sections I need, and then put them into a pandas dataframe\n",
    "    \n",
    "    #This will instatiate a properly formatted list that can be adapted into a PD dataframe... I added this\n",
    "    #After initially getting errors when trying to do pd.DataFrame(df_list) -- Oops!\n",
    "    df_data = [[]]\n",
    "    \n",
    "    #For each post in the length of my posts, let's ONLY add to our new list the title of the post, the text \n",
    "    #of the post, and the subreddit it came from\n",
    "    for post in range(len(posts)):\n",
    "        dflist = []\n",
    "        dflist.append(posts[post]['data']['title'])\n",
    "        dflist.append(posts[post]['data']['selftext'])\n",
    "        dflist.append(posts[post]['data']['subreddit'])\n",
    "        df_data.append(dflist)\n",
    "    \n",
    "    #Let's get these into a DF and change their column names to better represent what they are.\n",
    "    df = pd.DataFrame(df_data, columns = ['post_title', 'post_text', 'subreddit'])\n",
    "    \n",
    "    #Now let's export it.\n",
    "    df.to_csv(filename)\n",
    "    "
   ]
  },
  {
   "cell_type": "code",
   "execution_count": 62,
   "metadata": {},
   "outputs": [],
   "source": [
    "posts_todf_tocsv(posts1, './data/climatechange_cleaned.csv')\n",
    "posts_todf_tocsv(posts2, './data/climatechange.csv')"
   ]
  }
 ],
 "metadata": {
  "kernelspec": {
   "display_name": "Python 3",
   "language": "python",
   "name": "python3"
  },
  "language_info": {
   "codemirror_mode": {
    "name": "ipython",
    "version": 3
   },
   "file_extension": ".py",
   "mimetype": "text/x-python",
   "name": "python",
   "nbconvert_exporter": "python",
   "pygments_lexer": "ipython3",
   "version": "3.7.3"
  }
 },
 "nbformat": 4,
 "nbformat_minor": 2
}
